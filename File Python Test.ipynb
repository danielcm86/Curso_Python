{
  "cells": [
    {
      "metadata": {
        "collapsed": true
      },
      "cell_type": "markdown",
      "source": "# Unidad 0: atajos teclado"
    },
    {
      "metadata": {},
      "cell_type": "markdown",
      "source": "esc+D+D: borrar\nshift+enter: ejecutar celda"
    },
    {
      "metadata": {},
      "cell_type": "markdown",
      "source": "# Unidad 1: Función if"
    },
    {
      "metadata": {},
      "cell_type": "markdown",
      "source": "Función if se escribe en minúscula.\nLas condiciones tienen que estar alineadas con su condicional,todo terminando con \":\".\nelif permite agregar múltiples condicionales, pero se corta en cuanto encuentra un test lógico positivo.\n\nCondicionales:\na) == Igual\nb) != Distito\nc) > Mayor\nd) >= Mayor o igual\ne) < Menor\nf) <= menor o igual"
    },
    {
      "metadata": {},
      "cell_type": "markdown",
      "source": "## Ejercicio 1: comparar números"
    },
    {
      "metadata": {
        "trusted": true
      },
      "cell_type": "code",
      "source": "Valor_real = 30\nValor_estimado = 35",
      "execution_count": null,
      "outputs": []
    },
    {
      "metadata": {
        "trusted": true
      },
      "cell_type": "code",
      "source": "if a == b:\n    print('Los valores son iguales y valen '+str(a))\nelse:\n    print('Valores distintos')",
      "execution_count": null,
      "outputs": []
    },
    {
      "metadata": {},
      "cell_type": "markdown",
      "source": "## Ejercicio 2: adivinar valor"
    },
    {
      "metadata": {
        "trusted": true
      },
      "cell_type": "code",
      "source": "Valor_real = 30\nValor_estimado = 35",
      "execution_count": null,
      "outputs": []
    },
    {
      "metadata": {
        "trusted": true
      },
      "cell_type": "code",
      "source": "if Valor_real == Valor_estimado:\n    print(\"Acertaste!\")\nelif Valor_real > Valor_estimado:\n    if Valor_real-Valor_estimado > 10:\n        print(\"Te quedaste corto por más de 10\")\n    else: \n            print(\"Te quedaste corto por menos de 10\")\nelse:\n    if Valor_estimado-Valor_real >10:\n        print (\"Te pasaste por más de 10\")\n    else:\n        print (\"Te pasaste por menos de 10\")\nprint(\"Probá otra vez!\")",
      "execution_count": 53,
      "outputs": [
        {
          "output_type": "stream",
          "text": "Te pasaste por menos de 10\nProbá otra vez!\n",
          "name": "stdout"
        }
      ]
    },
    {
      "metadata": {
        "trusted": true
      },
      "cell_type": "code",
      "source": "import math",
      "execution_count": 19,
      "outputs": []
    },
    {
      "metadata": {
        "trusted": true
      },
      "cell_type": "code",
      "source": "",
      "execution_count": null,
      "outputs": []
    }
  ],
  "metadata": {
    "kernelspec": {
      "name": "python36",
      "display_name": "Python 3.6",
      "language": "python"
    },
    "language_info": {
      "mimetype": "text/x-python",
      "nbconvert_exporter": "python",
      "name": "python",
      "pygments_lexer": "ipython3",
      "version": "3.6.6",
      "file_extension": ".py",
      "codemirror_mode": {
        "version": 3,
        "name": "ipython"
      }
    }
  },
  "nbformat": 4,
  "nbformat_minor": 2
}